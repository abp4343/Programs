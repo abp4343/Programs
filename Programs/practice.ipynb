{
 "cells": [
  {
   "cell_type": "code",
   "execution_count": 26,
   "metadata": {},
   "outputs": [],
   "source": [
    "import numpy as np\n",
    "import matplotlib.pyplot as plt\n",
    "import random"
   ]
  },
  {
   "cell_type": "code",
   "execution_count": 27,
   "metadata": {},
   "outputs": [],
   "source": [
    "def create_board():\n",
    "    return np.zeros((3,3), dtype = int)"
   ]
  },
  {
   "cell_type": "code",
   "execution_count": 28,
   "metadata": {},
   "outputs": [],
   "source": [
    "board = create_board()"
   ]
  },
  {
   "cell_type": "code",
   "execution_count": 29,
   "metadata": {},
   "outputs": [
    {
     "name": "stdout",
     "output_type": "stream",
     "text": [
      "[[0 0 0]\n",
      " [0 0 0]\n",
      " [0 0 0]]\n"
     ]
    }
   ],
   "source": [
    "print(board)"
   ]
  },
  {
   "cell_type": "code",
   "execution_count": 30,
   "metadata": {},
   "outputs": [],
   "source": [
    "def place(board, player, position):\n",
    "    if((board[position]) == 0):\n",
    "        board[position] = player\n",
    "        print(board)\n",
    "    else:\n",
    "        print(\"There is already a marker here.\")"
   ]
  },
  {
   "cell_type": "code",
   "execution_count": 31,
   "metadata": {},
   "outputs": [
    {
     "name": "stdout",
     "output_type": "stream",
     "text": [
      "[[1 0 0]\n",
      " [0 0 0]\n",
      " [0 0 0]]\n"
     ]
    }
   ],
   "source": [
    "place(board, 1, (0,0))"
   ]
  },
  {
   "cell_type": "code",
   "execution_count": 32,
   "metadata": {},
   "outputs": [],
   "source": [
    "def possibilities(board):\n",
    "    ret = []\n",
    "    for a in range(3):\n",
    "        for b in range(3):\n",
    "            if(board[a,b] == 0):\n",
    "                ret.append((a,b))\n",
    "                \n",
    "    return ret"
   ]
  },
  {
   "cell_type": "code",
   "execution_count": 33,
   "metadata": {},
   "outputs": [
    {
     "data": {
      "text/plain": [
       "[(0, 1), (0, 2), (1, 0), (1, 1), (1, 2), (2, 0), (2, 1), (2, 2)]"
      ]
     },
     "execution_count": 33,
     "metadata": {},
     "output_type": "execute_result"
    }
   ],
   "source": [
    "possibilities(board)"
   ]
  },
  {
   "cell_type": "code",
   "execution_count": 37,
   "metadata": {},
   "outputs": [],
   "source": [
    "def random_place(board, player):\n",
    "    board[random.choice(possibilities(board))] = player\n",
    "    print(board)"
   ]
  },
  {
   "cell_type": "code",
   "execution_count": 35,
   "metadata": {},
   "outputs": [
    {
     "name": "stdout",
     "output_type": "stream",
     "text": [
      "[[1 0 0]\n",
      " [2 0 0]\n",
      " [0 0 0]]\n"
     ]
    }
   ],
   "source": [
    "random_place(board, 2)"
   ]
  },
  {
   "cell_type": "code",
   "execution_count": 36,
   "metadata": {},
   "outputs": [
    {
     "name": "stdout",
     "output_type": "stream",
     "text": [
      "[[1 0 0]\n",
      " [2 0 0]\n",
      " [1 0 0]]\n"
     ]
    }
   ],
   "source": [
    "random_place(board, 1)"
   ]
  },
  {
   "cell_type": "code",
   "execution_count": 50,
   "metadata": {},
   "outputs": [
    {
     "name": "stdout",
     "output_type": "stream",
     "text": [
      "[[0 0 1]\n",
      " [0 0 0]\n",
      " [0 0 0]]\n",
      "[[0 2 1]\n",
      " [0 0 0]\n",
      " [0 0 0]]\n",
      "[[0 2 1]\n",
      " [0 1 0]\n",
      " [0 0 0]]\n",
      "[[2 2 1]\n",
      " [0 1 0]\n",
      " [0 0 0]]\n",
      "[[2 2 1]\n",
      " [0 1 0]\n",
      " [0 1 0]]\n",
      "[[2 2 1]\n",
      " [0 1 0]\n",
      " [0 1 2]]\n",
      "[[2 2 1]\n",
      " [0 1 1]\n",
      " [0 1 2]]\n",
      "[[2 2 1]\n",
      " [0 1 1]\n",
      " [2 1 2]]\n",
      "[[2 2 1]\n",
      " [1 1 1]\n",
      " [2 1 2]]\n"
     ]
    }
   ],
   "source": [
    "random.seed(1)\n",
    "board = create_board()\n",
    "\n",
    "random_place(board, 1)\n",
    "random_place(board, 2)\n",
    "random_place(board, 1)\n",
    "random_place(board, 2)\n",
    "random_place(board, 1)\n",
    "random_place(board, 2)\n",
    "random_place(board, 1)\n",
    "random_place(board, 2)\n",
    "random_place(board, 1)"
   ]
  },
  {
   "cell_type": "code",
   "execution_count": 40,
   "metadata": {},
   "outputs": [],
   "source": [
    "def row_win(board, player):\n",
    "    check = (board == player)\n",
    "    return (np.all(check[0]) or np.all(check[1]) or np.all(check[2]))\n",
    "        "
   ]
  },
  {
   "cell_type": "code",
   "execution_count": 51,
   "metadata": {},
   "outputs": [
    {
     "data": {
      "text/plain": [
       "True"
      ]
     },
     "execution_count": 51,
     "metadata": {},
     "output_type": "execute_result"
    }
   ],
   "source": [
    "row_win(board, 1)"
   ]
  },
  {
   "cell_type": "code",
   "execution_count": 43,
   "metadata": {},
   "outputs": [],
   "source": [
    "def col_win(board, player):\n",
    "    check = (board == player)\n",
    "    return (np.all(check[:,0]) or np.all(check[:,1]) or np.all(check[:,2]))"
   ]
  },
  {
   "cell_type": "code",
   "execution_count": 52,
   "metadata": {},
   "outputs": [
    {
     "data": {
      "text/plain": [
       "False"
      ]
     },
     "execution_count": 52,
     "metadata": {},
     "output_type": "execute_result"
    }
   ],
   "source": [
    "col_win(board, 1)"
   ]
  },
  {
   "cell_type": "code",
   "execution_count": 45,
   "metadata": {},
   "outputs": [],
   "source": [
    "def diag_win(board, player):\n",
    "    check = (board == player)\n",
    "    return (np.all(np.array([check[0,0], check[1,1], check[2,2]]))\\\n",
    "           or np.all(np.array([check[2,0], check[1,1], check[2,0]])))"
   ]
  },
  {
   "cell_type": "code",
   "execution_count": 53,
   "metadata": {},
   "outputs": [
    {
     "data": {
      "text/plain": [
       "False"
      ]
     },
     "execution_count": 53,
     "metadata": {},
     "output_type": "execute_result"
    }
   ],
   "source": [
    "diag_win(board, 2)"
   ]
  },
  {
   "cell_type": "code",
   "execution_count": null,
   "metadata": {},
   "outputs": [],
   "source": []
  }
 ],
 "metadata": {
  "kernelspec": {
   "display_name": "Python 3",
   "language": "python",
   "name": "python3"
  },
  "language_info": {
   "codemirror_mode": {
    "name": "ipython",
    "version": 3
   },
   "file_extension": ".py",
   "mimetype": "text/x-python",
   "name": "python",
   "nbconvert_exporter": "python",
   "pygments_lexer": "ipython3",
   "version": "3.6.5"
  }
 },
 "nbformat": 4,
 "nbformat_minor": 2
}
