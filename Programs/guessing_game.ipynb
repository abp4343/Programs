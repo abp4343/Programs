{
 "cells": [
  {
   "cell_type": "code",
   "execution_count": 1,
   "metadata": {},
   "outputs": [],
   "source": [
    "from random import randint"
   ]
  },
  {
   "cell_type": "code",
   "execution_count": 2,
   "metadata": {},
   "outputs": [
    {
     "name": "stdout",
     "output_type": "stream",
     "text": [
      "93\n"
     ]
    }
   ],
   "source": [
    "number = randint(1,100)\n",
    "print(number)\n",
    "mylist = [0]\n",
    "r = 0\n",
    "guess = 0"
   ]
  },
  {
   "cell_type": "code",
   "execution_count": 3,
   "metadata": {},
   "outputs": [
    {
     "name": "stdout",
     "output_type": "stream",
     "text": [
      "Guess the number: 98\n",
      "warm\n",
      "Guess the number: 90\n",
      "warmer\n",
      "Guess the number: 93\n",
      "\n",
      "\n",
      "Correct! Number of guesses 3\n"
     ]
    }
   ],
   "source": [
    "while guess != number:\n",
    "    guess = int(input(\"Guess the number: \"))\n",
    "    while True:\n",
    "        mylist.append(guess)\n",
    "        if guess > 100 or guess < 1:\n",
    "            print(\"Out of bounds\")\n",
    "            break\n",
    "        elif guess == number:\n",
    "            print('\\n\\nCorrect! Number of guesses {l}'.format(l = len(mylist) - 1))\n",
    "            break\n",
    "        elif r == 0 and abs(mylist[-1] - number) < 10:\n",
    "            print(\"warm\")\n",
    "            r += 1\n",
    "            break\n",
    "        elif r == 0 and abs(mylist[-1] - number) > 10:\n",
    "            print(\"cold\")\n",
    "            r += 1\n",
    "            break\n",
    "        elif abs(mylist[-1] - number) < abs(mylist[-2] - number) or abs(mylist[-1] - number) == abs(mylist[-2] - number):\n",
    "            print(\"warmer\")\n",
    "            break\n",
    "        elif abs(mylist[-1] - number) > abs(mylist[-2] - number):\n",
    "            print(\"colder\")\n",
    "            break\n",
    "        \n",
    "        "
   ]
  },
  {
   "cell_type": "code",
   "execution_count": null,
   "metadata": {},
   "outputs": [],
   "source": []
  }
 ],
 "metadata": {
  "kernelspec": {
   "display_name": "Python 3",
   "language": "python",
   "name": "python3"
  },
  "language_info": {
   "codemirror_mode": {
    "name": "ipython",
    "version": 3
   },
   "file_extension": ".py",
   "mimetype": "text/x-python",
   "name": "python",
   "nbconvert_exporter": "python",
   "pygments_lexer": "ipython3",
   "version": "3.6.5"
  }
 },
 "nbformat": 4,
 "nbformat_minor": 2
}
